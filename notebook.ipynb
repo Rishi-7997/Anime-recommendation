{
 "cells": [
  {
   "cell_type": "code",
   "execution_count": 1,
   "metadata": {},
   "outputs": [],
   "source": [
    "import pandas as pd\n",
    "import pickle\n",
    "from transformers import AutoTokenizer, AutoModel\n",
    "import torch\n",
    "import torch.nn.functional as F"
   ]
  },
  {
   "cell_type": "code",
   "execution_count": 2,
   "metadata": {},
   "outputs": [],
   "source": [
    "df = pd.read_csv('anime.csv')\n",
    "df = df.dropna()\n",
    "df['description'] = df['name'] +' '+ df['genre'] + ' ' +df['type']+' episodes: '+ df['episodes']"
   ]
  },
  {
   "cell_type": "code",
   "execution_count": 10,
   "metadata": {},
   "outputs": [
    {
     "data": {
      "text/plain": [
       "0        Kimi no Na wa. Drama, Romance, School, Superna...\n",
       "1        Fullmetal Alchemist: Brotherhood Action, Adven...\n",
       "2        Gintama° Action, Comedy, Historical, Parody, S...\n",
       "3             Steins;Gate Sci-Fi, Thriller TV episodes: 24\n",
       "4        Gintama&#039; Action, Comedy, Historical, Paro...\n",
       "                               ...                        \n",
       "12289    Toushindai My Lover: Minami tai Mecha-Minami H...\n",
       "12290                   Under World Hentai OVA episodes: 1\n",
       "12291    Violence Gekiga David no Hoshi Hentai OVA epis...\n",
       "12292    Violence Gekiga Shin David no Hoshi: Inma Dens...\n",
       "12293    Yasuji no Pornorama: Yacchimae!! Hentai Movie ...\n",
       "Name: description, Length: 12017, dtype: object"
      ]
     },
     "execution_count": 10,
     "metadata": {},
     "output_type": "execute_result"
    }
   ],
   "source": [
    "df['description']"
   ]
  },
  {
   "cell_type": "code",
   "execution_count": 4,
   "metadata": {},
   "outputs": [
    {
     "name": "stderr",
     "output_type": "stream",
     "text": [
      "c:\\Users\\RS\\miniconda3\\Lib\\site-packages\\transformers\\tokenization_utils_base.py:1601: FutureWarning: `clean_up_tokenization_spaces` was not set. It will be set to `True` by default. This behavior will be depracted in transformers v4.45, and will be then set to `False` by default. For more details check this issue: https://github.com/huggingface/transformers/issues/31884\n",
      "  warnings.warn(\n",
      "c:\\Users\\RS\\miniconda3\\Lib\\site-packages\\transformers\\models\\bert\\modeling_bert.py:439: UserWarning: 1Torch was not compiled with flash attention. (Triggered internally at C:\\actions-runner\\_work\\pytorch\\pytorch\\builder\\windows\\pytorch\\aten\\src\\ATen\\native\\transformers\\cuda\\sdp_utils.cpp:555.)\n",
      "  attn_output = torch.nn.functional.scaled_dot_product_attention(\n"
     ]
    }
   ],
   "source": [
    "from sentence_transformers import SentenceTransformer\n",
    "model = SentenceTransformer('sentence-transformers/all-MiniLM-L6-v2')\n",
    "\n",
    "anime_embeddings = model.encode(df['description'].tolist())"
   ]
  },
  {
   "cell_type": "code",
   "execution_count": 7,
   "metadata": {},
   "outputs": [],
   "source": [
    "from sklearn.metrics.pairwise import cosine_similarity\n",
    "\n",
    "def get_recommendations(query, embeddings, df, top_n=5):\n",
    "    query_embedding = model.encode([query])\n",
    "    similarities = cosine_similarity(query_embedding, embeddings)\n",
    "    top_indices = similarities[0].argsort()[-top_n:][::-1]\n",
    "    return df.iloc[top_indices]"
   ]
  },
  {
   "cell_type": "code",
   "execution_count": 8,
   "metadata": {},
   "outputs": [
    {
     "name": "stdout",
     "output_type": "stream",
     "text": [
      "                                          name  \\\n",
      "7363  Sentou Yousei Shoujo Tasukete! Mave-chan   \n",
      "8140            Anime TV de Hakken! Tamagotchi   \n",
      "4294      SKET Dance: SD Character Flash Anime   \n",
      "1061                        Isshuukan Friends.   \n",
      "2850                       Oshiete! Galko-chan   \n",
      "\n",
      "                                             genre  \n",
      "7363  Comedy, Parody, Sci-Fi, Shounen, Super Power  \n",
      "8140          Comedy, Fantasy, Kids, Slice of Life  \n",
      "4294                       Comedy, School, Shounen  \n",
      "1061        Comedy, School, Shounen, Slice of Life  \n",
      "2850                 Comedy, School, Slice of Life  \n"
     ]
    }
   ],
   "source": [
    "query = \"Funny anime I can watch with friends\"\n",
    "recommendations = get_recommendations(query, anime_embeddings, df)\n",
    "print(recommendations[['name', 'genre']])"
   ]
  }
 ],
 "metadata": {
  "kernelspec": {
   "display_name": "base",
   "language": "python",
   "name": "python3"
  },
  "language_info": {
   "codemirror_mode": {
    "name": "ipython",
    "version": 3
   },
   "file_extension": ".py",
   "mimetype": "text/x-python",
   "name": "python",
   "nbconvert_exporter": "python",
   "pygments_lexer": "ipython3",
   "version": "3.12.3"
  }
 },
 "nbformat": 4,
 "nbformat_minor": 2
}
